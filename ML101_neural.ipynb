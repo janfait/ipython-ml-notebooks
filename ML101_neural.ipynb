{
 "cells": [
  {
   "cell_type": "markdown",
   "metadata": {
    "slideshow": {
     "slide_type": "slide"
    }
   },
   "source": [
    "### ML101 : Neural Network\n",
    "14-09-2016,  \n",
    "Jan Fait,  \n",
    "Digital Marketing,  \n",
    "Munich"
   ]
  },
  {
   "cell_type": "code",
   "execution_count": 4,
   "metadata": {
    "collapsed": true,
    "slideshow": {
     "slide_type": "subslide"
    }
   },
   "outputs": [],
   "source": [
    "%matplotlib inline"
   ]
  },
  {
   "cell_type": "markdown",
   "metadata": {
    "slideshow": {
     "slide_type": "slide"
    }
   },
   "source": [
    "### Neural Network, The Hype\n",
    "\n",
    "Most people imagine something like this and back away in fear.  \n",
    "This is indeed what it looks like, but without the 3D graphics.\n",
    "\n",
    "![](https://takinginitiative.files.wordpress.com/2008/04/neural-network-rotator.jpg)\n"
   ]
  },
  {
   "cell_type": "markdown",
   "metadata": {
    "slideshow": {
     "slide_type": "slide"
    }
   },
   "source": [
    "### Rewind to perceptron\n",
    "\n",
    "You have seen the perceptron in the first of your classes.\n",
    "The perceptron - yes, you can call it a **neuron** - is linear separator.\n",
    "\n",
    "It can separate linearly separable data - it can draw a line between a bunch of points.\n",
    "\n",
    "![](http://natureofcode.com/book/imgs/chapter10/ch10_07.png)\n",
    "\n",
    "\n"
   ]
  },
  {
   "cell_type": "markdown",
   "metadata": {
    "slideshow": {
     "slide_type": "slide"
    }
   },
   "source": [
    "### MLP\n",
    "\n",
    "Very often, you see the term MLP Network.\n",
    "\n",
    "This is essentially a **M**ulti-**L**ayer-**P**erceptron.\n",
    "\n",
    "Input layer are the perceptrons fed with a input vector, Hidden layer are some more perceptrons.\n",
    "\n",
    "\n",
    "![](http://www.texample.net/media/tikz/examples/PNG/neural-network.png)"
   ]
  },
  {
   "cell_type": "markdown",
   "metadata": {
    "slideshow": {
     "slide_type": "slide"
    }
   },
   "source": [
    "### What is the extra layer for? The exclusive or (XOR) problem.\n",
    "\n",
    "Remember. Perceptron only does linearly separable problems.\n",
    "\n",
    "Take boolean inputs **a** and **b**.  \n",
    "We want the output to be **True** if: \n",
    "\n",
    "(**a** and **not b**) or (**not a** and **b**)\n",
    "\n",
    "![](http://srv-marketing1.muc.ecircle.de/utils/xor.PNG)\n"
   ]
  },
  {
   "cell_type": "code",
   "execution_count": 5,
   "metadata": {
    "collapsed": false,
    "slideshow": {
     "slide_type": "slide"
    }
   },
   "outputs": [
    {
     "data": {
      "text/plain": [
       "(True, True, False)"
      ]
     },
     "execution_count": 5,
     "metadata": {},
     "output_type": "execute_result"
    }
   ],
   "source": [
    "def logical_xor(a, b):\n",
    "    return bool(a) ^ bool(b)\n",
    "\n",
    "logical_xor(1,0), logical_xor(0,1), logical_xor(1,1)"
   ]
  },
  {
   "cell_type": "markdown",
   "metadata": {
    "slideshow": {
     "slide_type": "slide"
    }
   },
   "source": [
    "\n",
    "### Something as simple as XOR is not linearly separable.\n",
    "\n",
    "We need a **combined** decision of the nodes. One decision on the **OR**, one decision on the **AND**.\n",
    "\n",
    "![](http://uk-calling.com/other/uni/xor.gif)"
   ]
  },
  {
   "cell_type": "markdown",
   "metadata": {
    "slideshow": {
     "slide_type": "slide"
    }
   },
   "source": [
    "### What are the numbers on the connections?\n",
    "\n",
    "Remember perceptron, these are **the weights**. Whatever comes from the input is multiplied by a connection weight before reaching the next layer.\n",
    "\n",
    "\n",
    "**A=0 and B=1**: \n",
    "+ sum(A,B) > 1/2 but also sum(A,B) < 3/2 \n",
    "+ upper node is activated resulting in a 1 \n",
    "+ lower node is not activated resulting in a 0. \n",
    "+ (1 x 1) + (0 x -1) > 1/2 so the output is 1.\n",
    "\n",
    "**A=1 and B=1**:\n",
    "\n",
    "+ sum(A,B) > 1/2 and sum(A,B) > 3/2\n",
    "+ both nodes get activated\n",
    "+ (1 x 1) + (1 x -1) < 1/2 so the output is 0.\n",
    "\n",
    "![](http://uk-calling.com/other/uni/xor.gif)"
   ]
  },
  {
   "cell_type": "markdown",
   "metadata": {
    "slideshow": {
     "slide_type": "slide"
    }
   },
   "source": [
    "### How did we get to those 1/2 and 3/2 numbers though?\n",
    "\n",
    " We didn't, the network did. Through training. They are the results of several runs of the A,B pairs through the network."
   ]
  },
  {
   "cell_type": "markdown",
   "metadata": {
    "slideshow": {
     "slide_type": "slide"
    }
   },
   "source": [
    "## Backpropagation for training the network\n",
    "\n",
    "Backpropagation is the most common way the network learns the right weights.\n",
    "\n",
    "Steps it takes:\n",
    "\n",
    "+ Initialize random weights W1,W2 on the layers\n",
    "\n",
    "+ Feed the input matrix X into the first layer and on to others\n",
    "\n",
    "$Layer0 = X$  \n",
    "$Layer1 = nonlinear(W1 * Layer0)$  \n",
    "$Layer2 = nonlinear(W2 * Layer1)$  \n",
    "\n",
    "+ Compare the result of this with the expected Y vector\n",
    "\n",
    "+ Caluculate error in prediction\n",
    "\n",
    "+ Feed this error back through the network \n",
    "\n",
    "\n"
   ]
  },
  {
   "cell_type": "markdown",
   "metadata": {
    "slideshow": {
     "slide_type": "slide"
    }
   },
   "source": [
    "### What does the nonlinear function thing do?\n",
    "\n",
    "+ It is an activation function.   \n",
    "+ It defines, how much should the output react to the input of the previous layer.  \n",
    "+ A multilayer network using only linear activation functions is equivalent to some single layer, linear network.  \n",
    "+ In other words, in order to make a linear transformation, you don't need an extra layer."
   ]
  },
  {
   "cell_type": "code",
   "execution_count": 6,
   "metadata": {
    "collapsed": false,
    "slideshow": {
     "slide_type": "slide"
    }
   },
   "outputs": [
    {
     "data": {
      "image/png": "[encoded data removed]",
      "text/plain": [
       "<matplotlib.figure.Figure at 0x7dc56a0>"
      ]
     },
     "metadata": {},
     "output_type": "display_data"
    }
   ],
   "source": [
    "import numpy as np\n",
    "\n",
    "def nonlin(x,deriv=False):\n",
    "\tif(deriv==True):\n",
    "\t    return x*(1-x)\n",
    "\treturn 1/(1+np.exp(-x))\n",
    "\n",
    "scaling_input = [-20,-10,-5,-2,-1,-0.5,-0.1,0,0.1,0.5,1,2,5,10,20];\n",
    "nonlinear_scaling = [];\n",
    "\n",
    "for i in scaling_input :\n",
    "    nonlinear_scaling.append(nonlin(i))   \n",
    "\n",
    "import matplotlib.pyplot as plt\n",
    "plt.plot(scaling_input,nonlinear_scaling, 'ro')\n",
    "plt.axis([-20,20, -0.1, 1.1])\n",
    "plt.show()   \n",
    "#this is our non-linear transformation function\n",
    "#it recieves an input and scales between 0 and 1\n",
    "\n"
   ]
  },
  {
   "cell_type": "code",
   "execution_count": 7,
   "metadata": {
    "collapsed": false,
    "slideshow": {
     "slide_type": "slide"
    }
   },
   "outputs": [],
   "source": [
    "\n",
    "#input matrix\n",
    "X = np.array([[0,0,1],\n",
    "            [0,1,1],\n",
    "            [1,0,1],\n",
    "            [1,1,1]])\n",
    "\n",
    "#expected output matrix\n",
    "y = np.array([[0],[1],[1],[0]])\n",
    "\n",
    "#set random seed\n",
    "np.random.seed(1)\n",
    "\n",
    "# randomly initialize our weights with mean 0\n",
    "# 3x4 matrix for weights of each of the layers (input,layer1,layer2 x 4 nodes)\n",
    "weights0 = 2*np.random.random((3,4)) - 1\n",
    "# 1x4 matrix for the output\n",
    "weights1 = 2*np.random.random((4,1)) - 1"
   ]
  },
  {
   "cell_type": "code",
   "execution_count": 8,
   "metadata": {
    "collapsed": false
   },
   "outputs": [
    {
     "name": "stdout",
     "output_type": "stream",
     "text": [
      "Errors:\n",
      "[[-0.47372957]\n",
      " [ 0.51104304]\n",
      " [ 0.45615914]\n",
      " [-0.54470837]]\n",
      "Mean Absolute Error:0.496410031903\n",
      "Adjusting weights by deltas:\n",
      "[[-0.29194348]\n",
      " [ 0.31677549]\n",
      " [ 0.28861437]\n",
      " [-0.34474975]]\n",
      "Errors:\n",
      "[[-0.00258945]\n",
      " [ 0.00182417]\n",
      " [ 0.00141689]\n",
      " [-0.00259128]]\n",
      "Mean Absolute Error:0.00210544735288\n",
      "Adjusting weights by deltas:\n",
      "[[-0.0012964 ]\n",
      " [ 0.00133292]\n",
      " [ 0.00103543]\n",
      " [-0.00129732]]\n",
      "Errors:\n",
      "[[-0.00137415]\n",
      " [ 0.00093858]\n",
      " [ 0.0007877 ]\n",
      " [-0.00137466]]\n",
      "Mean Absolute Error:0.00111877251414\n",
      "Adjusting weights by deltas:\n",
      "[[-0.00068754]\n",
      " [ 0.00068599]\n",
      " [ 0.00057574]\n",
      " [-0.0006878 ]]\n",
      "Errors:\n",
      "[[-0.00093787]\n",
      " [ 0.00063115]\n",
      " [ 0.00054915]\n",
      " [-0.00093812]]\n",
      "Mean Absolute Error:0.000764071627177\n",
      "Adjusting weights by deltas:\n",
      "[[-0.00046916]\n",
      " [ 0.00046133]\n",
      " [ 0.0004014 ]\n",
      " [-0.00046928]]\n",
      "Errors:\n",
      "[[-0.00071252]\n",
      " [ 0.00047518]\n",
      " [ 0.0004225 ]\n",
      " [-0.00071267]]\n",
      "Mean Absolute Error:0.000580718687431\n",
      "Adjusting weights by deltas:\n",
      "[[-0.00035639]\n",
      " [ 0.00034734]\n",
      " [ 0.00030884]\n",
      " [-0.00035646]]\n",
      "Errors:\n",
      "[[-0.00057473]\n",
      " [ 0.00038093]\n",
      " [ 0.00034372]\n",
      " [-0.00057483]]\n",
      "Mean Absolute Error:0.000468553920876\n",
      "Adjusting weights by deltas:\n",
      "[[-0.00028745]\n",
      " [ 0.00027846]\n",
      " [ 0.00025126]\n",
      " [-0.0002875 ]]\n"
     ]
    }
   ],
   "source": [
    "for j in range(60000):\n",
    "\n",
    "    # feed forward through layers 0, 1, and 2\n",
    "    layer0 = X\n",
    "    #dot product of the input matrix and the first layer of weights\n",
    "    layer1 = nonlin(np.dot(layer0,weights0))\n",
    "    #dot product of the output of the layer 1 with weights of layer 2\n",
    "    layer2 = nonlin(np.dot(layer1,weights1))\n",
    "\n",
    "    # how much did we miss the target value?\n",
    "    layer2_error = y - layer2\n",
    "    if (j% 10000) == 0:\n",
    "        print(\"Errors:\")\n",
    "        print(layer2_error)\n",
    "    \n",
    "    #on every 10000 interations print mean error of classification\n",
    "    if (j% 10000) == 0:\n",
    "        print(\"Mean Absolute Error:\" + str(np.mean(np.abs(layer2_error))))\n",
    "        \n",
    "    # in what direction is the target value?\n",
    "    # were we really sure? if so, don't change too much.\n",
    "    layer2_delta = layer2_error*nonlin(layer2,deriv=False)\n",
    "    if (j% 10000) == 0:\n",
    "        print(\"Adjusting weights by deltas:\")\n",
    "        print(layer2_delta)\n",
    "\n",
    "    # how much did each l1 value contribute to the l2 error (according to the weights)?\n",
    "    layer1_error = layer2_delta.dot(weights1.T)\n",
    "    \n",
    "    # in what direction is the target l1?\n",
    "    # were we really sure? if so, don't change too much.\n",
    "    # this is where scaling is needed - if we didn't scale, we would adjust too much.\n",
    "    layer1_delta = layer1_error * nonlin(layer1,deriv=False)\n",
    "    \n",
    "    #adjust the weights on the layer by their product with the deltas\n",
    "    # = multiply output delta and layer input activation to get the gradient of the weight.\n",
    "    weights1 += layer1.T.dot(layer2_delta)\n",
    "    weights0 += layer0.T.dot(layer1_delta)"
   ]
  },
  {
   "cell_type": "markdown",
   "metadata": {
    "slideshow": {
     "slide_type": "slide"
    }
   },
   "source": [
    "## How many hidden layers?\n",
    "\n",
    "As always. Consider the complexity of the problem. \n",
    "\n",
    "**Too few** - the network will not be able to grasp the dimensionality of the problem and ends up being too simple.\n",
    "\n",
    "**Too many** - the network overfits - learns the training data, not the underlying problem\n",
    "\n",
    "![](http://d3kbpzbmcynnmx.cloudfront.net/wp-content/uploads/2015/09/nn-from-scratch-hidden-layer-varying.png)\n",
    "\n"
   ]
  },
  {
   "cell_type": "markdown",
   "metadata": {
    "slideshow": {
     "slide_type": "slide"
    }
   },
   "source": [
    "### Summary\n",
    "\n",
    "We understood, how the neural network works:\n",
    "\n",
    "+ It is essentially a number of perceptrons in multiple layers\n",
    "+ The input is fed into the first layer, multiplied by its node's weights, scaled and sent further\n",
    "+ Scaling allows solution of non-linear problems and makes activation of next layer nodes easier\n",
    "+ After the output layer gets to a conclusion, it is compared with the expected result and if not same, it is adjusted by a certain margin and fed back through the network where weights are adjusted\n",
    "+ We rarely see how did the network arrive to a conclusion, it is a black-box method\n"
   ]
  },
  {
   "cell_type": "markdown",
   "metadata": {
    "slideshow": {
     "slide_type": "slide"
    }
   },
   "source": [
    "That's it for today. Thank you."
   ]
  },
  {
   "cell_type": "markdown",
   "metadata": {
    "slideshow": {
     "slide_type": "slide"
    }
   },
   "source": [
    "### References\n",
    "\n",
    "[Scikit-Learn NN module](http://scikit-learn.org/dev/modules/neural_networks_supervised.html)  \n",
    "[Excellent chapter from Nature of Code on NN](http://natureofcode.com/book/chapter-10-neural-networks/)  \n",
    "[Backpropagation step by step](https://mattmazur.com/2015/03/17/a-step-by-step-backpropagation-example/)  "
   ]
  }
 ],
 "metadata": {
  "celltoolbar": "Slideshow",
  "kernelspec": {
   "display_name": "Python 3",
   "language": "python",
   "name": "python3"
  },
  "language_info": {
   "codemirror_mode": {
    "name": "ipython",
    "version": 3
   },
   "file_extension": ".py",
   "mimetype": "text/x-python",
   "name": "python",
   "nbconvert_exporter": "python",
   "pygments_lexer": "ipython3",
   "version": "3.4.4"
  }
 },
 "nbformat": 4,
 "nbformat_minor": 0
}

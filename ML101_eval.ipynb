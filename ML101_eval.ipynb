{
 "cells": [
  {
   "cell_type": "markdown",
   "metadata": {
    "slideshow": {
     "slide_type": "slide"
    }
   },
   "source": [
    "### ML101 : Evaluating a classifier, selecting a model : The basics\n",
    "31-08-2016,  \n",
    "Jan Fait,  \n",
    "Digital Marketing,\n",
    "Munich"
   ]
  },
  {
   "cell_type": "code",
   "execution_count": 16,
   "metadata": {
    "collapsed": true,
    "slideshow": {
     "slide_type": "slide"
    }
   },
   "outputs": [],
   "source": [
    "%matplotlib inline\n",
    "import numpy as np"
   ]
  },
  {
   "cell_type": "markdown",
   "metadata": {
    "slideshow": {
     "slide_type": "slide"
    }
   },
   "source": [
    "## Theory\n",
    "\n",
    "Booo!\n",
    "\n",
    "### Donald Trump approach to machine learning\n",
    "+ See the data\n",
    "+ Feed them all in a model\n",
    "+ Check prediction accuracy\n",
    "+ Change model parameters around\n",
    "+ Deploy model\n",
    "+ Make Machine Learning great again"
   ]
  },
  {
   "cell_type": "markdown",
   "metadata": {
    "slideshow": {
     "slide_type": "slide"
    }
   },
   "source": [
    "![](http://www.anaffairfromtheheart.com/wp-content/uploads/2015/10/tony-fuggedaboutit-300x199.jpg)"
   ]
  },
  {
   "cell_type": "markdown",
   "metadata": {
    "slideshow": {
     "slide_type": "slide"
    }
   },
   "source": [
    "### Train and Test paradigms (1)\n",
    "\n",
    "If you are 'data rich', you go like this and you don't touch the 'test' at all:\n",
    "\n",
    "![](http://srv-marketing1.muc.ecircle.de/utils/traintest.png)\n",
    "\n",
    "Ok, but when am I data rich?\n",
    "\n",
    "[See Curse of Dimensionality](http://www.visiondummy.com/2014/04/curse-dimensionality-affect-classification/)\n",
    "\n",
    "Well, you are mostly not, unless you have a continuous stream of data (and enough positive events), so you go like:\n",
    "\n",
    "![](http://srv-marketing1.muc.ecircle.de/utils/traintest2.png)\n",
    "\n"
   ]
  },
  {
   "cell_type": "markdown",
   "metadata": {
    "slideshow": {
     "slide_type": "slide"
    }
   },
   "source": [
    "### Train and Test paradigms (2)\n",
    "\n",
    "With just Train and Test sets, this is what you get when tuning your model \n",
    "\n",
    "![](https://onlinecourses.science.psu.edu/stat857/sites/onlinecourses.science.psu.edu.stat857/files/lesson04/model_complexity.png)"
   ]
  },
  {
   "cell_type": "markdown",
   "metadata": {
    "slideshow": {
     "slide_type": "slide"
    }
   },
   "source": [
    "### Train and Test paradigms (3)\n",
    "\n",
    "+ As we include more predictors, space coverage improves and training error goes down\n",
    "+ At some point your model starts adjusting to the training data ('overfitting') and does not 'generalize' well.\n",
    "\n",
    "> Good generalization is our goal! Lowest BIAS and VARIANCE of the model."
   ]
  },
  {
   "cell_type": "markdown",
   "metadata": {
    "slideshow": {
     "slide_type": "slide"
    }
   },
   "source": [
    "### Train and Test paradigms (4)\n",
    "\n",
    "#### Variance\n",
    "> an amount by which our approximation function/model would change if we estimated it using a different training data set\n",
    "\n",
    "#### Bias\n",
    "> error that is introduced by approximating a real-life problem, which may be extremely complicated, by a much simpler model\n",
    "\n",
    "Lowest **Variance** and **Bias** are commonly achieved with an intermediate complexity. The lowest point of the Test Error curve"
   ]
  },
  {
   "cell_type": "markdown",
   "metadata": {
    "slideshow": {
     "slide_type": "slide"
    }
   },
   "source": [
    "## Practical part\n",
    "\n",
    "Yaaaay!\n",
    "\n",
    "###  Data\n",
    "+ 500 observations of fake data \n",
    "+ 3 continuous predictors \n",
    "+ 1 categorical response with 2 classes [0,1]\n",
    "+ Tip : [Generate correlated data from a defined covariance matrix](https://scipy.github.io/old-wiki/pages/Cookbook/CorrelatedRandomSamples.html)  \n",
    "+ Or even use the Scikit native df,resp = make_classification(n_samples, random_state)"
   ]
  },
  {
   "cell_type": "code",
   "execution_count": 17,
   "metadata": {
    "collapsed": false,
    "slideshow": {
     "slide_type": "subslide"
    }
   },
   "outputs": [
    {
     "name": "stdout",
     "output_type": "stream",
     "text": [
      "Number of training rows is: 400\n"
     ]
    }
   ],
   "source": [
    "#pandas is a popular package for working with tabular data as data.frames, yes almost like Spark data.frames\n",
    "import pandas as pd\n",
    "#read in the data, define separator\n",
    "df = pd.read_csv('../data/datasets/fake_data_1.csv', sep=',')\n",
    "#show a truncated data frame\n",
    "df.values\n",
    "\n",
    "#simple validation set taking 0.8 of data, defined random seed\n",
    "train=df.sample(frac=0.8,random_state=200)\n",
    "#inverse selection for the test set\n",
    "test=df.drop(train.index)\n",
    "#check\n",
    "print(\"Number of training rows is: \"+ str(len(train)))"
   ]
  },
  {
   "cell_type": "markdown",
   "metadata": {
    "slideshow": {
     "slide_type": "slide"
    }
   },
   "source": [
    "###  Evaluating a  classifier\n",
    "\n",
    "No K-fold cross-validation so far, just a simple hold-out set"
   ]
  },
  {
   "cell_type": "code",
   "execution_count": 18,
   "metadata": {
    "collapsed": false,
    "slideshow": {
     "slide_type": "slide"
    }
   },
   "outputs": [
    {
     "name": "stdout",
     "output_type": "stream",
     "text": [
      "DecisionTreeClassifier(class_weight=None, criterion='gini', max_depth=None,\n",
      "            max_features=None, max_leaf_nodes=None, min_samples_leaf=1,\n",
      "            min_samples_split=2, min_weight_fraction_leaf=0.0,\n",
      "            presort=False, random_state=None, splitter='best')\n"
     ]
    }
   ],
   "source": [
    "from sklearn.tree import DecisionTreeClassifier\n",
    "from sklearn.metrics import *\n",
    "\n",
    "#get a classifier object instance from the sklearn library\n",
    "model1_tree = DecisionTreeClassifier()\n",
    "#apply fit method with train[predictors] against train[response]\n",
    "model1_tree = model1_tree.fit(train[['pred1','pred2','pred3']],train['resp'])\n",
    "#just so you see the model object\n",
    "print(model1_tree)\n",
    "\n",
    "#take the test[response] as what we're expecting to get\n",
    "expected_m1 = test['resp']\n",
    "#use the predict method of the model to guess the class\n",
    "predicted_m1 = model1_tree.predict(test[['pred1','pred2','pred3']])\n"
   ]
  },
  {
   "cell_type": "markdown",
   "metadata": {
    "slideshow": {
     "slide_type": "slide"
    }
   },
   "source": [
    "###  Accuracy\n",
    "\n",
    "Accuracy is the number of correct predictions (guessed the right class) in the test set."
   ]
  },
  {
   "cell_type": "code",
   "execution_count": 19,
   "metadata": {
    "collapsed": false,
    "slideshow": {
     "slide_type": "slide"
    }
   },
   "outputs": [
    {
     "name": "stdout",
     "output_type": "stream",
     "text": [
      "Our accuracy is: 0.6\n"
     ]
    }
   ],
   "source": [
    "#initiate accuracy as zero\n",
    "accuracy = 0\n",
    "#expected==predicted returns a boolean vector - whether the guess is rigth or not\n",
    "for i in (expected_m1 == predicted_m1):\n",
    "    if i:\n",
    "        accuracy+=1\n",
    "#the sum of True in this comparison divided by the number of comparisons == accuracy       \n",
    "accuracy = accuracy/len(expected_m1==predicted_m1)    \n",
    "print(\"Our accuracy is: \"+str(accuracy))\n",
    "\n",
    "#Hint: we prefer to use vectorized functions\n",
    "def getAccuracy(exp,pre):\n",
    "    return sum(exp==pre) /len(exp==pre)"
   ]
  },
  {
   "cell_type": "markdown",
   "metadata": {
    "slideshow": {
     "slide_type": "slide"
    }
   },
   "source": [
    "> Why does the **Accuracy** metric belong to the Donald Trump arsenal?\n"
   ]
  },
  {
   "cell_type": "markdown",
   "metadata": {
    "slideshow": {
     "slide_type": "slide"
    }
   },
   "source": [
    "#### The Confusion Matrix\n",
    "\n",
    "The confusion matrix shows all possible results of the (expected == predicted) comparison\n",
    "![](http://www.gepsoft.com/gepsoft/APS3KB/Chapter09/Section2/confusionmatrix.png)\n",
    "\n",
    "Let us break it apart.\n",
    "\n",
    "> TP = **True Positive** = Expected True == Predicted True  \n",
    "> FN = **False Negative** = Expected True != Predicted False  \n",
    "> FP = **False Positive** = Expected False != Predicted True  \n",
    "> TN = **True Negative** = Expected False == Predicted False "
   ]
  },
  {
   "cell_type": "markdown",
   "metadata": {
    "slideshow": {
     "slide_type": "fragment"
    }
   },
   "source": [
    "Accuracy: $A = \\frac{(TP + TN)}{TP+FN+FP+TN}$"
   ]
  },
  {
   "cell_type": "code",
   "execution_count": 69,
   "metadata": {
    "collapsed": false,
    "slideshow": {
     "slide_type": "slide"
    }
   },
   "outputs": [
    {
     "data": {
      "text/plain": [
       "array([[32, 26],\n",
       "       [14, 28]])"
      ]
     },
     "execution_count": 69,
     "metadata": {},
     "output_type": "execute_result"
    }
   ],
   "source": [
    "confusion_matrix(expected_m1,predicted_m1)"
   ]
  },
  {
   "cell_type": "markdown",
   "metadata": {
    "slideshow": {
     "slide_type": "slide"
    }
   },
   "source": [
    "Think of what is our model algorithm maximizing.  \n",
    "> Can you imagine a model with high accuracy, which is at the same time useless?"
   ]
  },
  {
   "cell_type": "code",
   "execution_count": null,
   "metadata": {
    "collapsed": false,
    "slideshow": {
     "slide_type": "slide"
    }
   },
   "outputs": [],
   "source": [
    "#get different data\n",
    "df2=pd.read_csv('../data/datasets/fake_data_2.csv', sep=',')\n",
    "train2=df2.sample(frac=0.6,random_state=200)\n",
    "test2=df2.drop(train2.index)\n",
    "\n",
    "print(\"There are \"+str(sum(test['resp']==0))+\" negative events (=0) in the test set\")\n",
    "\n",
    "model1_tree2 = DecisionTreeClassifier()\n",
    "model1_tree2 = model1_tree2.fit(train2[['pred1','pred2','pred3']],train2['resp'])\n",
    "expected_m12 = test2['resp']\n",
    "predicted_m12 = model1_tree2.predict(test2[['pred1','pred2','pred3']])\n",
    "\n",
    "#get accuracy\n",
    "print(\"Accuracy is \"+ str(getAccuracy(expected_m12,predicted_m12)))\n",
    "#confusion matrix is a bit of an ugly array\n",
    "confusion_matrix(expected_m12,predicted_m12)"
   ]
  },
  {
   "cell_type": "markdown",
   "metadata": {
    "slideshow": {
     "slide_type": "fragment"
    }
   },
   "source": [
    "Accuracy is high, but we fail to predict ~50% of our true positives.  \n",
    "You will see a model predict something into 1 class (all positive) because it achieves a better accuracy. Mainly when classes are imbalanced.\n",
    "\n",
    "**Kappa Value**  \n",
    "The Kappa value is a metric that compares an Accuracy with an Expected Accuracy(random chance). In other words, how much better is our classifier than a random classifier"
   ]
  },
  {
   "cell_type": "markdown",
   "metadata": {
    "slideshow": {
     "slide_type": "slide"
    }
   },
   "source": [
    "### Beyond accuracy\n",
    "\n",
    "$Sensitivity/Recall = \\frac{TP}{TP+FN}$ - Catching the True Positives True==True correctly  \n",
    "$Specificity = \\frac{TN}{TN+FP}$ - Catching the True Negatives False==False correctly  \n",
    "$Precision = \\frac{TP}{TP+FP}$ - What share of positives is predicted correctly  \n",
    "\n",
    "If your model has a very high value of one of the above, but totally fails on the other one, its wrong.\n",
    "\n",
    "You can run your model with a **Cost Matrix** which penalize different parts of the Confusion Matrix.\n",
    "\n",
    "\n",
    "> How can I see these judge these metrics in a comprehensive manner? \n"
   ]
  },
  {
   "cell_type": "markdown",
   "metadata": {
    "slideshow": {
     "slide_type": "slide"
    }
   },
   "source": [
    "### ROC curve\n",
    "\n",
    "+ Popular way to compare performance of multiple models in the same space.\n",
    "+ Balances the Sensitivity and Specificity\n",
    "+ If both are maximized, we're heading up to the upper left corner\n",
    "\n",
    "> Who is closer to the upper left corner wins\n",
    "\n",
    "![](https://upload.wikimedia.org/wikipedia/commons/thumb/3/36/ROC_space-2.png/480px-ROC_space-2.png)\n"
   ]
  },
  {
   "cell_type": "code",
   "execution_count": 55,
   "metadata": {
    "collapsed": false,
    "slideshow": {
     "slide_type": "slide"
    }
   },
   "outputs": [
    {
     "name": "stdout",
     "output_type": "stream",
     "text": [
      "Accuracy is 0.68\n",
      "[[37 21]\n",
      " [11 31]]\n",
      "             precision    recall  f1-score   support\n",
      "\n",
      "          0       0.77      0.64      0.70        58\n",
      "          1       0.60      0.74      0.66        42\n",
      "\n",
      "avg / total       0.70      0.68      0.68       100\n",
      "\n"
     ]
    }
   ],
   "source": [
    "from sklearn.linear_model import LogisticRegression\n",
    "\n",
    "#lets use logistic regression as a competing model\n",
    "model2_lr = LogisticRegression(penalty='l1', solver='liblinear')\n",
    "model2_lr = model2_lr.fit(train[['pred1','pred2','pred3']],train['resp'])\n",
    "\n",
    "expected_m2 = test['resp']\n",
    "predicted_m2 = model2_lr.predict(test[['pred1','pred2','pred3']])\n",
    "\n",
    "print(\"Accuracy is \"+ str(getAccuracy(expected_m2,predicted_m2)))\n",
    "\n",
    "print(confusion_matrix(expected_m2,predicted_m2))\n",
    "#python models also give us a bit of a consolidated report\n",
    "print(classification_report(expected_m2, predicted_m2))\n"
   ]
  },
  {
   "cell_type": "markdown",
   "metadata": {
    "slideshow": {
     "slide_type": "slide"
    }
   },
   "source": [
    "So lets compare our two models. Tree vs. Logistic Regression\n",
    "Note that we didn't tweak the models at all - not good example."
   ]
  },
  {
   "cell_type": "code",
   "execution_count": 45,
   "metadata": {
    "collapsed": false,
    "slideshow": {
     "slide_type": "slide"
    }
   },
   "outputs": [
    {
     "name": "stdout",
     "output_type": "stream",
     "text": [
      "0.666666666667 0.785714285714\n",
      "0.481481481481 0.4\n"
     ]
    },
    {
     "data": {
      "image/png": "[encoded data removed]",
      "text/plain": [
       "<matplotlib.figure.Figure at 0xb54eeb8>"
      ]
     },
     "metadata": {},
     "output_type": "display_data"
    }
   ],
   "source": [
    "#python has a native function for sensitivity/recall\n",
    "sens1 = recall_score(expected_m1, predicted_m1)\n",
    "sens2 = recall_score(expected_m2, predicted_m2)\n",
    "print(sens1,sens2)\n",
    "\n",
    "#but we have to define our own for specificity\n",
    "def getSpec(exp,pre):\n",
    "    cm = confusion_matrix(exp, pre)\n",
    "    return cm[0,1]/(cm[0,1]+cm[1,1])\n",
    "\n",
    "spec1 = getSpec(expected_m1, predicted_m1)\n",
    "spec2 = getSpec(expected_m2, predicted_m2)\n",
    "print(spec1,spec2)\n",
    "\n",
    "#So our amateur ROC curve goes like\n",
    "import matplotlib.pyplot as plt\n",
    "fig = plt.figure(figsize=(5,5))\n",
    "ax = fig.add_subplot(111)\n",
    "ax.scatter(x=[1-spec1,1-spec2],y=[sens1,sens2],s=[5,5],c=[1,2])\n",
    "plt.xlim(0, 1)\n",
    "plt.ylim(0, 1)\n",
    "plt.show()"
   ]
  },
  {
   "cell_type": "code",
   "execution_count": 40,
   "metadata": {
    "collapsed": false,
    "slideshow": {
     "slide_type": "slide"
    }
   },
   "outputs": [
    {
     "data": {
      "image/png": "[encoded data removed]",
      "text/plain": [
       "<matplotlib.figure.Figure at 0xba37940>"
      ]
     },
     "metadata": {},
     "output_type": "display_data"
    }
   ],
   "source": [
    "#or how about we use the native ROC function from scikit\n",
    "fp1, tp1, thr1 = roc_curve(expected_m1, predicted_m1)\n",
    "roc_auc1 = auc(fp1, tp1)\n",
    "fp2, tp2, thr2 = roc_curve(expected_m2, predicted_m2)\n",
    "roc_auc2 = auc(fp2, tp2)\n",
    "\n",
    "#plotting well is a lot of code, ugh\n",
    "plt.title('Receiver Operating Characteristic ROC Curve')\n",
    "plt.plot(fp1, tp1, 'b',label='AUC_m1 = %0.2f'% roc_auc1)\n",
    "plt.plot(fp2, tp2, 'g',label='AUC_m2 = %0.2f'% roc_auc2)\n",
    "plt.plot([0,1],[0,1],'r--',label='Random success')\n",
    "plt.legend(loc='lower right')\n",
    "plt.xlim([-0.1,1.2])\n",
    "plt.ylim([-0.1,1.2])\n",
    "plt.ylabel('Sensitivity')\n",
    "plt.xlabel('False Positive Rate (1-Specificity)')\n",
    "plt.show()"
   ]
  },
  {
   "cell_type": "markdown",
   "metadata": {
    "slideshow": {
     "slide_type": "slide"
    }
   },
   "source": [
    "### Enter Cross-Validation\n",
    "\n",
    "K-Cross-validation = multiple test sets derived from the training set during the fitting process\n",
    "\n",
    "+ prevents an 'unlucky' test set\n",
    "+ improves generalization\n",
    "+ K depends on your data+ # of predictors, usually 5-10\n",
    "+ Returns an 'averaged' model, not the best one!\n",
    "\n",
    "4-Fold Cross-validation below. Note that this only splits the training set - the test set remains untouched by the model until the first fit.\n",
    "\n",
    "![](http://srv-marketing1.muc.ecircle.de/utils/traincv.png)"
   ]
  },
  {
   "cell_type": "code",
   "execution_count": 68,
   "metadata": {
    "collapsed": false,
    "slideshow": {
     "slide_type": "slide"
    }
   },
   "outputs": [
    {
     "name": "stdout",
     "output_type": "stream",
     "text": [
      "Accuracy is 0.68\n"
     ]
    }
   ],
   "source": [
    "from sklearn.linear_model import LogisticRegressionCV\n",
    "\n",
    "#lets use logistic regression as a competing model\n",
    "model2_lr2 = LogisticRegressionCV(cv=5,penalty='l1', solver='liblinear', Cs=[0.01, 0.001], refit=True)\n",
    "model2_lr2 = model2_lr2.fit(train[['pred1','pred2','pred3']],train['resp'])\n",
    "\n",
    "expected_m21 = test['resp']\n",
    "predicted_m21 = model2_lr2.predict(test[['pred1','pred2','pred3']])\n",
    "\n",
    "print(\"Accuracy is \"+ str(getAccuracy(expected_m21,predicted_m21)))\n"
   ]
  },
  {
   "cell_type": "markdown",
   "metadata": {
    "slideshow": {
     "slide_type": "slide"
    }
   },
   "source": [
    "Well, cross-validation did not help extremely this time, but you will appreciate it as a means of reducing our test error when data becomes more stratified and generally harder to grasp.\n",
    "\n",
    "That's it for today. Thank you."
   ]
  },
  {
   "cell_type": "markdown",
   "metadata": {
    "slideshow": {
     "slide_type": "slide"
    }
   },
   "source": [
    "### References\n",
    "\n",
    "[Scikit-Learn Metrics module](http://scikit-learn.org/stable/modules/model_evaluation.html)  \n",
    "[Measuring performance with caret Library for R](http://topepo.github.io/caret/other.html)  \n",
    "[Confusion Matrix](https://en.wikipedia.org/wiki/Confusion_matrix)  "
   ]
  }
 ],
 "metadata": {
  "celltoolbar": "Slideshow",
  "kernelspec": {
   "display_name": "Python 3",
   "language": "python",
   "name": "python3"
  },
  "language_info": {
   "codemirror_mode": {
    "name": "ipython",
    "version": 3
   },
   "file_extension": ".py",
   "mimetype": "text/x-python",
   "name": "python",
   "nbconvert_exporter": "python",
   "pygments_lexer": "ipython3",
   "version": "3.4.4"
  }
 },
 "nbformat": 4,
 "nbformat_minor": 0
}
